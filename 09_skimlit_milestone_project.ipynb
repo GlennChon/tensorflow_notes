{
 "cells": [
  {
   "cell_type": "markdown",
   "metadata": {},
   "source": [
    "# Milestone Project 2: SkimLit\n",
    "\n",
    "Sequence Problem:\n",
    "Many to One Classification\n",
    "\n",
    "* Download PubMed 200k RCT dataset\n",
    "* Preprocess the text data\n",
    "* Set up multiple modeling experiments\n",
    "* Build a multimodal model to take in different sources of data\n",
    "  * Replicate the model powering https://arxiv.org/abs/1710.06071\n",
    "* Find the most wrong prediction examples"
   ]
  },
  {
   "cell_type": "markdown",
   "metadata": {},
   "source": [
    "## SkimLit 2016\n",
    "\n",
    "Artificial Neural Network consisting of 3 main components:\n",
    "* Token embedding layer (bi-LSTM)\n",
    "* Sentence label prediction layer (bi-LSTM)\n",
    "* Label sequence optimization layer (CRF)\n"
   ]
  }
 ],
 "metadata": {
  "kernelspec": {
   "display_name": "Python 3.9.12 64-bit ('miniconda3')",
   "language": "python",
   "name": "python3"
  },
  "language_info": {
   "name": "python",
   "version": "3.9.12"
  },
  "orig_nbformat": 4,
  "vscode": {
   "interpreter": {
    "hash": "215bc93be91779c90c22d9452977b07e46a2652f59eedc500a409df416ed83eb"
   }
  }
 },
 "nbformat": 4,
 "nbformat_minor": 2
}
