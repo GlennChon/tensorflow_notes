{
 "cells": [
  {
   "cell_type": "markdown",
   "metadata": {},
   "source": [
    "# Transfer Learning with TensorFlow Part 3\n",
    "\n",
    "Scaling Up (Food Vision mini)\n",
    "101 total food classes"
   ]
  },
  {
   "cell_type": "code",
   "execution_count": null,
   "metadata": {},
   "outputs": [],
   "source": [
    "# Check gpu\n",
    "!nvidia-smi"
   ]
  },
  {
   "cell_type": "markdown",
   "metadata": {},
   "source": [
    "## Setup Helper Functions"
   ]
  },
  {
   "cell_type": "code",
   "execution_count": null,
   "metadata": {},
   "outputs": [],
   "source": [
    "from helper_functions import create_tensorboard_callback, plot_loss_curves, unzip_data, compare_historys, walk_through_dir"
   ]
  },
  {
   "cell_type": "markdown",
   "metadata": {},
   "source": [
    "## Food 101\n",
    "\n",
    "Goal: Beat the original Food101 paper with 10% of the training data\n",
    "### Download Dataset"
   ]
  },
  {
   "cell_type": "code",
   "execution_count": null,
   "metadata": {},
   "outputs": [],
   "source": [
    "# Download data\n",
    "!wget -nc -P ../Downloads/ https://storage.googleapis.com/ztm_tf_course/food_vision/101_food_classes_10_percent.zip\n",
    "\n",
    "# Unzip\n",
    "unzip_data('../Downloads/101_food_classes_10_percent.zip', '../Downloads')\n",
    "\n",
    "# Check number of images and subdirectories in the dataset\n",
    "walk_through_dir('../Downloads/101_food_classes_10_percent')"
   ]
  },
  {
   "cell_type": "code",
   "execution_count": null,
   "metadata": {},
   "outputs": [],
   "source": [
    "train_dir = '../Downloads/101_food_classes_10_percent/train'\n",
    "test_dir = '../Downloads/101_food_classes_10_percent/test'"
   ]
  },
  {
   "cell_type": "code",
   "execution_count": null,
   "metadata": {},
   "outputs": [],
   "source": [
    "# Setup data inputs\n",
    "import tensorflow as tf\n",
    "IMG_SIZE = (224, 224)\n",
    "train_data_all_10_percent = tf.keras.preprocessing.image_dataset_from_directory(train_dir,\n",
    "                                                                                label_mode=\"categorical\",\n",
    "                                                                                image_size=IMG_SIZE)\n",
    "                                                                                \n",
    "test_data = tf.keras.preprocessing.image_dataset_from_directory(test_dir,\n",
    "                                                                label_mode=\"categorical\",\n",
    "                                                                image_size=IMG_SIZE,\n",
    "                                                                shuffle=False) # don't shuffle test data for prediction analysis"
   ]
  },
  {
   "cell_type": "markdown",
   "metadata": {},
   "source": [
    "## Training the big model with transfer learning\n",
    "\n",
    "10% of 101 food classes\n",
    "\n",
    "Steps:\n",
    "1. Create a ModelCheckpoint callback\n",
    "2. Create a data agumentation layer to build data agumentation right into the model\n",
    "3. Build a headless (no top layers) functional EfficientNetB0 base model\n",
    "    a. Create a custom output layer\n",
    "4. Compile\n",
    "5. Feature extract for 5 full passes \n",
    "    a. 5 epochs on the train dataset\n",
    "    b. Validate on 15% of the test data (to save time)"
   ]
  },
  {
   "cell_type": "code",
   "execution_count": null,
   "metadata": {},
   "outputs": [],
   "source": []
  }
 ],
 "metadata": {
  "kernelspec": {
   "display_name": "Python 3.10.4 ('directml')",
   "language": "python",
   "name": "python3"
  },
  "language_info": {
   "codemirror_mode": {
    "name": "ipython",
    "version": 3
   },
   "file_extension": ".py",
   "mimetype": "text/x-python",
   "name": "python",
   "nbconvert_exporter": "python",
   "pygments_lexer": "ipython3",
   "version": "3.10.4"
  },
  "orig_nbformat": 4,
  "vscode": {
   "interpreter": {
    "hash": "4c179f5f00e546169410edbb1f0aaf45df98c7fd11ac06763c585ffbea32bb02"
   }
  }
 },
 "nbformat": 4,
 "nbformat_minor": 2
}
